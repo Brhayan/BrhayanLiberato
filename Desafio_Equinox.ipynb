{
 "cells": [
  {
   "cell_type": "markdown",
   "id": "fb77e792-9462-436b-b764-58a017d15d67",
   "metadata": {},
   "source": [
    "\n",
    "<h2 style=\"text-align: center;\">Desafío Equinox AI and Data Lab </h2>\n",
    "\n",
    "\n",
    "\n"
   ]
  },
  {
   "cell_type": "markdown",
   "id": "17895e51-8e46-4b1b-9805-2b40e1275ba2",
   "metadata": {
    "tags": []
   },
   "source": [
    "Saludos aspirante:\n",
    "Estás a punto de comenzar un reto para demostrar que puedes ser parte de Equinox.\n",
    "\n",
    "Lee con atención las instrucciones para que puedas llevar a cabo tu prueba:\n",
    "\n",
    "El Desafío Equinox **evaluará 4 aspectos básicos** que se requieren a la hora de elegir a un perfil. \n",
    "Por lo tanto la prueba estará dividida en **4 partes**.\n",
    "\n",
    "- La primera parte evaluará tus conocimientos en **análisis y tratamiento de información**, esto junto a tu habilidad técnica en jupyter Notebooks, Python y demás librerias requeridas en Data analysis.\n",
    "\n",
    "- La segunda parte esta orientada a conocer tu desempeño en la construcción de modelos de **Machine Learning**, Ten en cuenta seguir el pipeline completo para demostrar que tu modelo tiene un correcto desempeño.\n",
    "\n",
    "- La tercera parte es un ejercicio orientado a evaluar tus **capacidades en SQL**. Consta de tres preguntas de negocio con la cuales queremos observar tu habilidad en el lenguaje.\n",
    "\n",
    "- La cuarta parte es un ejercicio de **comunicación**, en donde serás entrevistado por líderes del área y tendrás que contarnos sobre el modo en que abordaste el desafío."
   ]
  },
  {
   "cell_type": "markdown",
   "id": "b3e7cfe6-3302-43c5-8c5a-543c7035824e",
   "metadata": {},
   "source": [
    "<h4>Reglas para el desafío</h4>\n",
    "\n",
    "- El desafío podrá ser resuelto en aproximadamente 3 días, **comenzando el viernes 20 de Mayo a las 2:00 pm  y terminará el Lunes 23 de Mayo a las 01:00 pm** .\n",
    "\n",
    "- Es necesario contar con una cuenta de github para poder descargar el contenido del desafío y subir tus respuestas. Si no tienes una cuenta puedes dirigirte al sitio https://github.com/ y crear una.\n",
    "\n",
    "- Para la primera y segunda parte se utilizarán Jupyter Notebooks, Python y sus librerías orientadas a análisis de Datos y Machine Learning. Asegúrate de tener instaladas estas herramientas en tu equipo antes del lanzamiento del desafío para que puedas dedicar tus esfuerzos a resolver los problemas.\n",
    "\n",
    "- La tercera parte tomará la base de datos que esta alojada en https://www.w3schools.com/sql/trysql.asp?filename=trysql_select_all como referencia para las preguntas planteadas. Allí encontrarás una pequeña base de datos y un sandbox donde podrás probar tus queries.\n",
    "\n",
    "- Todo lo que construyas debe estár en un Jupyter Notebook, La primera y segunda parte deben correr dentro del notebook, mientras que para la tercera parte, solamente debes colocar los queries que resuelvan las preguntas de esta parte. **Asegurate de ser ordenado** para que nuestro proceso de validación pueda ser ágil.\n",
    "\n",
    "- Asegúrate de dar fork al repositorio https://github.com/EquinoxAI/desafio_equinox con tu nombre y apellido. **Ten en cuenta siempre  dar commit y subir archivos, para poder evaluar tu prueba.**\n",
    "![example1](img/fork1.png)\n",
    "![example2](img/fork2.png)\n",
    "\n",
    "- Debes estar atento las próximas semanas para realizar una entrevista, en la cuál deberás sustentar temas puntuales de tu prueba.\n",
    "\n",
    "\n",
    "Desde Equinox te deseamos muchos éxitos en este gran desafío y esperamos que des lo mejor de tí.\n",
    "\n",
    "Te esperamos.\n",
    "\n",
    "\n"
   ]
  },
  {
   "cell_type": "markdown",
   "id": "19176922-6f96-4439-aa7c-7d807b28af41",
   "metadata": {},
   "source": [
    "<h4> Primera Parte: Análisis y tratamiento de información </h4>\n",
    "\n",
    "- Tomando como referencia el archivo **kc_house_data.csv** responde las siguientes preguntas:\n",
    "\n",
    "    - ¿Cuántos registros y columnas esta compuesto el dataset?\n",
    "    - ¿Qué años componen el dataset y que cantidad de registros hay para cada año?\n",
    "    - ¿Cuál es la media de habitaciones de las propiedades que conforman el dataset?\n",
    "    - ¿Cuál es el precio promedio de alquilar una casa  de 3 pisos o más?\n",
    "    - ¿Cuántos pisos posée la casa cuyo número de habitaciones es igual a 33?\n",
    "    - ¿Cuántas propiedades son del año 2015 y tienen un precio mayor a 400000 dólares?\n",
    "    - ¿Cuál es la distribución del número de pisos en el dataset?. Demuéstralo a través de un gráfico de barras ordenado\n",
    "    - ¿Con que tipo de distribución relacionaría el precio de las propiedades cuyo valor es menor o igual a 2000000 dentro del dataset         Demuéstralo con un histograma."
   ]
  },
  {
   "cell_type": "markdown",
   "id": "114ae9fd-376c-4847-b58f-62e5ed61a251",
   "metadata": {},
   "source": [
    "<h4> Segunda Parte: Machine Learning </h4>\n",
    "\n",
    "Tomando el dataset de los ejercicios anteriores entrena un modelo que use inteligencia artificial que prediga el precio de propiedades futuras.\n",
    "\n",
    "Ten en cuenta: \n",
    "- Plantear una correcta división del dataset para entrenar y testear. \n",
    "- Usar el modelo correcto.\n",
    "- Métricas de desemempeño.\n",
    "- Construir una función para poder inferir resultados fuera del dataset."
   ]
  },
  {
   "cell_type": "markdown",
   "id": "75c2a405-f4b4-4ca7-95f8-6bc62cf7a0be",
   "metadata": {},
   "source": [
    "<h4> Tercera Parte: Capacidades en SQL </h4>\n",
    "\n",
    "Resuelve las siguientes preguntas a través de una consulta SQL, La base de datos que usaremos como referencia, se encuentra en:\n",
    "https://www.w3schools.com/sql/trysql.asp?filename=trysql_select_all\n",
    "Allí también podrás encontrar un sandbox para realizar las consultas de una manera sencilla.\n",
    "\n",
    "\n",
    "- Cuales son las categorias de productos que mas han vendido y cuanto han vendido en precio y cantidad.\n",
    "- Cuantas unidades y dinero de cada producto ha vendido cada empleado \n",
    "- Cual es el producto más vendido por cada empleado. \n",
    "\n",
    "El orden,buenas prácticas y presentación de las consultas también cuenta. Asegurate de colocarlas en el notebook para que las podamos revisar."
   ]
  }
 ],
 "metadata": {
  "kernelspec": {
   "display_name": "Python 3 (ipykernel)",
   "language": "python",
   "name": "python3"
  },
  "language_info": {
   "codemirror_mode": {
    "name": "ipython",
    "version": 3
   },
   "file_extension": ".py",
   "mimetype": "text/x-python",
   "name": "python",
   "nbconvert_exporter": "python",
   "pygments_lexer": "ipython3",
   "version": "3.7.4"
  }
 },
 "nbformat": 4,
 "nbformat_minor": 5
}
